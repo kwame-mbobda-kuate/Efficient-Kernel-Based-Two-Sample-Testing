{
 "cells": [
  {
   "cell_type": "code",
   "execution_count": 1,
   "id": "36ad92ce",
   "metadata": {},
   "outputs": [],
   "source": [
    "import kernel\n",
    "import numpy as np\n",
    "import scipy\n",
    "import matplotlib as plt\n",
    "import sklearn\n",
    "\n",
    "seed = 1048596\n",
    "P = 200\n",
    "a = 0.05\n",
    "rng = np.random.default_rng(seed)\n",
    "rbf = kernel.GaussianKernel()"
   ]
  },
  {
   "cell_type": "code",
   "execution_count": 2,
   "id": "bd508a22",
   "metadata": {},
   "outputs": [
    {
     "ename": "IndexError",
     "evalue": "too many indices for array: array is 1-dimensional, but 2 were indexed",
     "output_type": "error",
     "traceback": [
      "\u001b[31m---------------------------------------------------------------------------\u001b[39m",
      "\u001b[31mIndexError\u001b[39m                                Traceback (most recent call last)",
      "\u001b[36mCell\u001b[39m\u001b[36m \u001b[39m\u001b[32mIn[2]\u001b[39m\u001b[32m, line 10\u001b[39m\n\u001b[32m      7\u001b[39m X = rng.normal(\u001b[32m0\u001b[39m, \u001b[32m1\u001b[39m, n_x)\n\u001b[32m      8\u001b[39m Y = rng.normal(\u001b[32m0\u001b[39m, sigma, n_y)\n\u001b[32m---> \u001b[39m\u001b[32m10\u001b[39m \u001b[43mrbf\u001b[49m\u001b[43m.\u001b[49m\u001b[43mfit_bandwidth\u001b[49m\u001b[43m(\u001b[49m\u001b[43mX\u001b[49m\u001b[43m,\u001b[49m\u001b[43m \u001b[49m\u001b[43mY\u001b[49m\u001b[43m,\u001b[49m\u001b[43m \u001b[49m\u001b[32;43m1000\u001b[39;49m\u001b[43m)\u001b[49m\n\u001b[32m     12\u001b[39m rbf.test_mmd_nystrom_uniform(X, l_x, Y, l_y, alpha, P, seed)\n",
      "\u001b[36mFile \u001b[39m\u001b[32m~/work/Efficient-Kernel-Based-Two-Sample-Testing/src/kernel.py:120\u001b[39m, in \u001b[36mGaussianKernel.fit_bandwidth\u001b[39m\u001b[34m(self, X, Y, n)\u001b[39m\n\u001b[32m    119\u001b[39m \u001b[38;5;28;01mdef\u001b[39;00m\u001b[38;5;250m \u001b[39m\u001b[34mfit_bandwidth\u001b[39m(\u001b[38;5;28mself\u001b[39m, X, Y, n):\n\u001b[32m--> \u001b[39m\u001b[32m120\u001b[39m     Z = np.concat((\u001b[43mX\u001b[49m\u001b[43m[\u001b[49m\u001b[43m:\u001b[49m\u001b[43m \u001b[49m\u001b[43mn\u001b[49m\u001b[43m \u001b[49m\u001b[43m/\u001b[49m\u001b[43m/\u001b[49m\u001b[43m \u001b[49m\u001b[32;43m2\u001b[39;49m\u001b[43m,\u001b[49m\u001b[43m \u001b[49m\u001b[43m:\u001b[49m\u001b[43m]\u001b[49m, Y[: n // \u001b[32m2\u001b[39m]))\n\u001b[32m    121\u001b[39m     \u001b[38;5;28mself\u001b[39m.length_scale = np.median(scipy.spatial.distance.pdist(Z))\n",
      "\u001b[31mIndexError\u001b[39m: too many indices for array: array is 1-dimensional, but 2 were indexed"
     ]
    }
   ],
   "source": [
    "gauss_dim = 1\n",
    "sigma = 10\n",
    "n_x, n_y = 2500, 2500\n",
    "n = n_x + n_y\n",
    "l_x, l_y = np.sqrt(n)//2, np.sqrt(n)//2\n",
    "\n",
    "X = rng.normal(0, 1, n_x)\n",
    "Y = rng.normal(0, sigma, n_y)\n",
    "\n",
    "rbf.fit_bandwidth(X, Y, 1000)\n",
    "\n",
    "rbf.test_mmd_nystrom_uniform(X, l_x, Y, l_y, alpha, P, seed)"
   ]
  },
  {
   "cell_type": "code",
   "execution_count": null,
   "id": "7366692d",
   "metadata": {},
   "outputs": [],
   "source": []
  }
 ],
 "metadata": {
  "kernelspec": {
   "display_name": "Python 3",
   "language": "python",
   "name": "python3"
  },
  "language_info": {
   "codemirror_mode": {
    "name": "ipython",
    "version": 3
   },
   "file_extension": ".py",
   "mimetype": "text/x-python",
   "name": "python",
   "nbconvert_exporter": "python",
   "pygments_lexer": "ipython3",
   "version": "3.12.9"
  }
 },
 "nbformat": 4,
 "nbformat_minor": 5
}
